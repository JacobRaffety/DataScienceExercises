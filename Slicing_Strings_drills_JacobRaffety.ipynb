{
  "cells": [
    {
      "cell_type": "markdown",
      "metadata": {
        "id": "view-in-github",
        "colab_type": "text"
      },
      "source": [
        "<a href=\"https://colab.research.google.com/github/JacobRaffety/DataScienceExercises/blob/main/Slicing_Strings_drills_JacobRaffety.ipynb\" target=\"_parent\"><img src=\"https://colab.research.google.com/assets/colab-badge.svg\" alt=\"Open In Colab\"/></a>"
      ]
    },
    {
      "cell_type": "markdown",
      "metadata": {
        "id": "G_f5UJiQx-wD"
      },
      "source": [
        "# Slicing strings exercise"
      ]
    },
    {
      "cell_type": "markdown",
      "metadata": {
        "id": "fkNNQPQxyA8z"
      },
      "source": [
        "Below is a quote from a movie.\n",
        "\n",
        "Your task is two-fold:\n",
        "1. to come up with a slice syntax so that the result is the specified output.\n",
        "1. to do as many as you can in 5 minutes\n",
        "\n",
        "For example, here's the slice syntax for two of the lists:\n"
      ]
    },
    {
      "cell_type": "code",
      "execution_count": 5,
      "metadata": {
        "id": "BrEnrRiYys9o"
      },
      "outputs": [],
      "source": [
        "line = \"Strange women lying in ponds distributing swords is no basis for a system of government.\"\n"
      ]
    },
    {
      "cell_type": "markdown",
      "metadata": {
        "id": "a31_Ikhhy8H9"
      },
      "source": [
        "The full collection:\n"
      ]
    },
    {
      "cell_type": "code",
      "execution_count": 6,
      "metadata": {
        "id": "KeslWSjYzDEO"
      },
      "outputs": [],
      "source": [
        "outputs = {}\n",
        "outputs[0] = \"tubirts\"\n",
        "outputs[1] = \"tnemnre\"\n",
        "outputs[2] = \"strib\"\n",
        "outputs[3] = \"d sdnop\"\n",
        "outputs[4] = \"rds i\"\n",
        "outputs[5] = \"emow eg\"\n",
        "outputs[6] = \"w egnar\"\n",
        "outputs[7] = \"sdnop n\"\n",
        "outputs[8] = \"ab on s\"\n",
        "outputs[9] = \"or a \"\n",
        "outputs[10] = \"n si sd\"\n",
        "outputs[11] = \"tsys a \"\n",
        "outputs[12] = \"s a rof\"\n",
        "outputs[13] = \"Stran\"\n",
        "outputs[14] = \"nrevog \"\n",
        "outputs[15] = \"butin\"\n",
        "outputs[16] = \"si sdro\"\n",
        "outputs[17] = \"rof sis\"\n",
        "outputs[18] = \"f gov\"\n",
        "outputs[19] = \"g swo\""
      ]
    },
    {
      "cell_type": "markdown",
      "metadata": {
        "id": "iJg4Dg_ydRsQ"
      },
      "source": [
        "Example"
      ]
    },
    {
      "cell_type": "code",
      "execution_count": 7,
      "metadata": {
        "id": "Tq-kEou0GUcp",
        "colab": {
          "base_uri": "https://localhost:8080/"
        },
        "outputId": "000e3dbd-125c-46c0-acc5-5c69b6a4488a"
      },
      "outputs": [
        {
          "output_type": "execute_result",
          "data": {
            "text/plain": [
              "('tubirts', 'tubirts')"
            ]
          },
          "metadata": {},
          "execution_count": 7
        }
      ],
      "source": [
        "(\n",
        "outputs[0],\n",
        "line[-51:-58:-1]\n",
        ")"
      ]
    },
    {
      "cell_type": "code",
      "source": [
        "#Create reversed line for the backwards outputs\n",
        "line_rev = line[::-1]\n",
        "blank_list = [1]*20\n",
        "\n",
        "\n",
        "#Range to include all outputs\n",
        "for i in range (20):\n",
        "  #For forward phrases, if .find() finds a phrase it outputs index, if not found outputs -1\n",
        "  if line.find(outputs[i]) > -1:\n",
        "    #starting point of phrase is indexed\n",
        "    start = line.find(outputs[i])\n",
        "    #ending point is the starting point plus length of phrase\n",
        "    end = start + len(outputs[i])\n",
        "    #stores a list of output number, right bound, left bound, and the phrase\n",
        "    blank_list[i] = [f\"Output {i}\" ,f\"Right end: {start}\",f\"Left end: {end}\",line[start:end]]\n",
        "  #For revsere phrases, using line_rev.\n",
        "  elif line_rev.find(outputs[i]) > -1:\n",
        "    #same as before but with the reversed phrase\n",
        "    start = line_rev.find(outputs[i])\n",
        "    end = start + len(outputs[i])\n",
        "    #because phrase is reversed, bounds are negative going left to right\n",
        "    blank_list[i] = [f\"Output {i}\",f\"Right end: -{end}\", f\"Left end: -{start}\", line_rev[start:end]]\n",
        "\n",
        "print(blank_list)\n"
      ],
      "metadata": {
        "colab": {
          "base_uri": "https://localhost:8080/"
        },
        "id": "6Xp3GN_M5ivW",
        "outputId": "55707dc6-1d3b-4089-9024-b8ca3ce8bb08"
      },
      "execution_count": 34,
      "outputs": [
        {
          "output_type": "stream",
          "name": "stdout",
          "text": [
            "88\n",
            "[['Output 0', 'Right end: -57', 'Left end: -50', 'tubirts'], ['Output 1', 'Right end: -8', 'Left end: -1', 'tnemnre'], ['Output 2', 'Right end: 31', 'Left end: 36', 'strib'], ['Output 3', 'Right end: -65', 'Left end: -58', 'd sdnop'], ['Output 4', 'Right end: 45', 'Left end: 50', 'rds i'], ['Output 5', 'Right end: -83', 'Left end: -76', 'emow eg'], ['Output 6', 'Right end: -86', 'Left end: -79', 'w egnar'], ['Output 7', 'Right end: -67', 'Left end: -60', 'sdnop n'], ['Output 8', 'Right end: -38', 'Left end: -31', 'ab on s'], ['Output 9', 'Right end: 62', 'Left end: 67', 'or a '], ['Output 10', 'Right end: -42', 'Left end: -35', 'n si sd'], ['Output 11', 'Right end: -24', 'Left end: -17', 'tsys a '], ['Output 12', 'Right end: -27', 'Left end: -20', 's a rof'], ['Output 13', 'Right end: 0', 'Left end: 5', 'Stran'], ['Output 14', 'Right end: -12', 'Left end: -5', 'nrevog '], ['Output 15', 'Right end: 35', 'Left end: 40', 'butin'], ['Output 16', 'Right end: -44', 'Left end: -37', 'si sdro'], ['Output 17', 'Right end: -31', 'Left end: -24', 'rof sis'], ['Output 18', 'Right end: 75', 'Left end: 80', 'f gov'], ['Output 19', 'Right end: 40', 'Left end: 45', 'g swo']]\n"
          ]
        }
      ]
    },
    {
      "cell_type": "code",
      "source": [],
      "metadata": {
        "id": "imqCTR4B52BF"
      },
      "execution_count": null,
      "outputs": []
    }
  ],
  "metadata": {
    "colab": {
      "provenance": [],
      "toc_visible": true,
      "include_colab_link": true
    },
    "kernelspec": {
      "display_name": "Python 3 (ipykernel)",
      "language": "python",
      "name": "python3"
    },
    "language_info": {
      "codemirror_mode": {
        "name": "ipython",
        "version": 3
      },
      "file_extension": ".py",
      "mimetype": "text/x-python",
      "name": "python",
      "nbconvert_exporter": "python",
      "pygments_lexer": "ipython3",
      "version": "3.10.12"
    }
  },
  "nbformat": 4,
  "nbformat_minor": 0
}